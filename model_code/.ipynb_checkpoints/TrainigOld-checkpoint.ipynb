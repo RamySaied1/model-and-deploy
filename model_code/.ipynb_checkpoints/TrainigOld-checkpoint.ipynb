{
 "cells": [
  {
   "cell_type": "code",
   "execution_count": 2,
   "metadata": {},
   "outputs": [],
   "source": [
    "import pandas as  pd\n",
    "import matplotlib as mpl\n",
    "import numpy as np\n",
    "import seaborn as sns\n",
    "from sklearn.linear_model import LogisticRegression\n",
    "from sklearn.svm import SVC\n",
    "from sklearn.metrics import confusion_matrix,accuracy_score,recall_score,precision_score,f1_score\n",
    "\n",
    "\n"
   ]
  },
  {
   "cell_type": "markdown",
   "metadata": {},
   "source": [
    "# Loading Data"
   ]
  },
  {
   "cell_type": "code",
   "execution_count": 3,
   "metadata": {},
   "outputs": [],
   "source": [
    "train = pd.read_csv(\"training_processed.csv\",sep=';')\n",
    "test = pd.read_csv(\"validation_processed.csv\",sep=';')\n",
    "\n",
    "train.drop(\"Unnamed: 0\", axis=1, inplace=True)\n",
    "test.drop(\"Unnamed: 0\", axis=1, inplace=True)\n",
    "\n",
    "\n"
   ]
  },
  {
   "cell_type": "code",
   "execution_count": 4,
   "metadata": {},
   "outputs": [
    {
     "data": {
      "text/html": [
       "<div>\n",
       "<style scoped>\n",
       "    .dataframe tbody tr th:only-of-type {\n",
       "        vertical-align: middle;\n",
       "    }\n",
       "\n",
       "    .dataframe tbody tr th {\n",
       "        vertical-align: top;\n",
       "    }\n",
       "\n",
       "    .dataframe thead th {\n",
       "        text-align: right;\n",
       "    }\n",
       "</style>\n",
       "<table border=\"1\" class=\"dataframe\">\n",
       "  <thead>\n",
       "    <tr style=\"text-align: right;\">\n",
       "      <th></th>\n",
       "      <th>variable2</th>\n",
       "      <th>variable3</th>\n",
       "      <th>variable8</th>\n",
       "      <th>variable11</th>\n",
       "      <th>variable14</th>\n",
       "      <th>variable15</th>\n",
       "      <th>variable1_0</th>\n",
       "      <th>variable1_1</th>\n",
       "      <th>variable4_0</th>\n",
       "      <th>variable4_1</th>\n",
       "      <th>...</th>\n",
       "      <th>variable7_8</th>\n",
       "      <th>variable9_0</th>\n",
       "      <th>variable9_1</th>\n",
       "      <th>variable10_0</th>\n",
       "      <th>variable10_1</th>\n",
       "      <th>variable12_0</th>\n",
       "      <th>variable12_1</th>\n",
       "      <th>variable13_0</th>\n",
       "      <th>variable13_1</th>\n",
       "      <th>variable13_2</th>\n",
       "    </tr>\n",
       "  </thead>\n",
       "  <tbody>\n",
       "    <tr>\n",
       "      <th>0</th>\n",
       "      <td>17.92</td>\n",
       "      <td>0.000054</td>\n",
       "      <td>1.750</td>\n",
       "      <td>1.0</td>\n",
       "      <td>80.0</td>\n",
       "      <td>5.0</td>\n",
       "      <td>1.0</td>\n",
       "      <td>0.0</td>\n",
       "      <td>0.0</td>\n",
       "      <td>1.0</td>\n",
       "      <td>...</td>\n",
       "      <td>0.0</td>\n",
       "      <td>1.0</td>\n",
       "      <td>0.0</td>\n",
       "      <td>0.0</td>\n",
       "      <td>1.0</td>\n",
       "      <td>0.0</td>\n",
       "      <td>1.0</td>\n",
       "      <td>1.0</td>\n",
       "      <td>0.0</td>\n",
       "      <td>0.0</td>\n",
       "    </tr>\n",
       "    <tr>\n",
       "      <th>1</th>\n",
       "      <td>16.92</td>\n",
       "      <td>0.000034</td>\n",
       "      <td>0.290</td>\n",
       "      <td>0.0</td>\n",
       "      <td>200.0</td>\n",
       "      <td>0.0</td>\n",
       "      <td>0.0</td>\n",
       "      <td>1.0</td>\n",
       "      <td>0.0</td>\n",
       "      <td>0.0</td>\n",
       "      <td>...</td>\n",
       "      <td>0.0</td>\n",
       "      <td>1.0</td>\n",
       "      <td>0.0</td>\n",
       "      <td>1.0</td>\n",
       "      <td>0.0</td>\n",
       "      <td>1.0</td>\n",
       "      <td>0.0</td>\n",
       "      <td>0.0</td>\n",
       "      <td>0.0</td>\n",
       "      <td>1.0</td>\n",
       "    </tr>\n",
       "    <tr>\n",
       "      <th>2</th>\n",
       "      <td>31.25</td>\n",
       "      <td>0.000112</td>\n",
       "      <td>0.000</td>\n",
       "      <td>1.0</td>\n",
       "      <td>96.0</td>\n",
       "      <td>19.0</td>\n",
       "      <td>0.0</td>\n",
       "      <td>1.0</td>\n",
       "      <td>0.0</td>\n",
       "      <td>1.0</td>\n",
       "      <td>...</td>\n",
       "      <td>0.0</td>\n",
       "      <td>1.0</td>\n",
       "      <td>0.0</td>\n",
       "      <td>0.0</td>\n",
       "      <td>1.0</td>\n",
       "      <td>1.0</td>\n",
       "      <td>0.0</td>\n",
       "      <td>1.0</td>\n",
       "      <td>0.0</td>\n",
       "      <td>0.0</td>\n",
       "    </tr>\n",
       "    <tr>\n",
       "      <th>3</th>\n",
       "      <td>48.17</td>\n",
       "      <td>0.000133</td>\n",
       "      <td>0.335</td>\n",
       "      <td>0.0</td>\n",
       "      <td>0.0</td>\n",
       "      <td>120.0</td>\n",
       "      <td>1.0</td>\n",
       "      <td>0.0</td>\n",
       "      <td>0.0</td>\n",
       "      <td>1.0</td>\n",
       "      <td>...</td>\n",
       "      <td>0.0</td>\n",
       "      <td>1.0</td>\n",
       "      <td>0.0</td>\n",
       "      <td>1.0</td>\n",
       "      <td>0.0</td>\n",
       "      <td>1.0</td>\n",
       "      <td>0.0</td>\n",
       "      <td>1.0</td>\n",
       "      <td>0.0</td>\n",
       "      <td>0.0</td>\n",
       "    </tr>\n",
       "    <tr>\n",
       "      <th>4</th>\n",
       "      <td>32.33</td>\n",
       "      <td>0.000350</td>\n",
       "      <td>0.500</td>\n",
       "      <td>0.0</td>\n",
       "      <td>232.0</td>\n",
       "      <td>0.0</td>\n",
       "      <td>0.0</td>\n",
       "      <td>1.0</td>\n",
       "      <td>0.0</td>\n",
       "      <td>1.0</td>\n",
       "      <td>...</td>\n",
       "      <td>0.0</td>\n",
       "      <td>1.0</td>\n",
       "      <td>0.0</td>\n",
       "      <td>1.0</td>\n",
       "      <td>0.0</td>\n",
       "      <td>0.0</td>\n",
       "      <td>1.0</td>\n",
       "      <td>1.0</td>\n",
       "      <td>0.0</td>\n",
       "      <td>0.0</td>\n",
       "    </tr>\n",
       "  </tbody>\n",
       "</table>\n",
       "<p>5 rows × 43 columns</p>\n",
       "</div>"
      ],
      "text/plain": [
       "   variable2  variable3  variable8  variable11  variable14  variable15  \\\n",
       "0      17.92   0.000054      1.750         1.0        80.0         5.0   \n",
       "1      16.92   0.000034      0.290         0.0       200.0         0.0   \n",
       "2      31.25   0.000112      0.000         1.0        96.0        19.0   \n",
       "3      48.17   0.000133      0.335         0.0         0.0       120.0   \n",
       "4      32.33   0.000350      0.500         0.0       232.0         0.0   \n",
       "\n",
       "   variable1_0  variable1_1  variable4_0  variable4_1      ...       \\\n",
       "0          1.0          0.0          0.0          1.0      ...        \n",
       "1          0.0          1.0          0.0          0.0      ...        \n",
       "2          0.0          1.0          0.0          1.0      ...        \n",
       "3          1.0          0.0          0.0          1.0      ...        \n",
       "4          0.0          1.0          0.0          1.0      ...        \n",
       "\n",
       "   variable7_8  variable9_0  variable9_1  variable10_0  variable10_1  \\\n",
       "0          0.0          1.0          0.0           0.0           1.0   \n",
       "1          0.0          1.0          0.0           1.0           0.0   \n",
       "2          0.0          1.0          0.0           0.0           1.0   \n",
       "3          0.0          1.0          0.0           1.0           0.0   \n",
       "4          0.0          1.0          0.0           1.0           0.0   \n",
       "\n",
       "   variable12_0  variable12_1  variable13_0  variable13_1  variable13_2  \n",
       "0           0.0           1.0           1.0           0.0           0.0  \n",
       "1           1.0           0.0           0.0           0.0           1.0  \n",
       "2           1.0           0.0           1.0           0.0           0.0  \n",
       "3           1.0           0.0           1.0           0.0           0.0  \n",
       "4           0.0           1.0           1.0           0.0           0.0  \n",
       "\n",
       "[5 rows x 43 columns]"
      ]
     },
     "execution_count": 4,
     "metadata": {},
     "output_type": "execute_result"
    }
   ],
   "source": [
    "## data splitting \n",
    "\n",
    "x_train=train.drop(\"classLabel\",axis=1)\n",
    "y_train=train[\"classLabel\"]\n",
    "\n",
    "x_test=test.drop(\"classLabel\",axis=1)\n",
    "y_test=test[\"classLabel\"]\n",
    "\n",
    "x_train.head()"
   ]
  },
  {
   "cell_type": "markdown",
   "metadata": {},
   "source": [
    "# PCA\n"
   ]
  },
  {
   "cell_type": "code",
   "execution_count": 5,
   "metadata": {},
   "outputs": [
    {
     "name": "stderr",
     "output_type": "stream",
     "text": [
      "C:\\Users\\ramym\\Anaconda3\\lib\\site-packages\\ipykernel_launcher.py:7: DataConversionWarning: Data with input dtype int64, float64 were all converted to float64 by StandardScaler.\n",
      "  import sys\n"
     ]
    },
    {
     "data": {
      "text/plain": [
       "array([[-1.19804502e+00, -9.32922311e-01, -1.86173583e-01, ...,\n",
       "         3.31913453e-01, -1.21361807e-01, -3.04741530e-01],\n",
       "       [-1.28585921e+00, -9.75798843e-01, -5.96345844e-01, ...,\n",
       "        -3.59747012e+00, -1.21361807e-01,  4.00987577e+00],\n",
       "       [-2.74818101e-02, -8.10567328e-01, -6.77818417e-01, ...,\n",
       "         3.31913453e-01, -1.21361807e-01, -3.04741530e-01],\n",
       "       ...,\n",
       "       [ 4.66650739e-04,  8.05463847e-01, -4.68791198e-01, ...,\n",
       "         3.31913453e-01, -1.21361807e-01, -3.04741530e-01],\n",
       "       [-4.53506090e-02, -8.39157418e-01, -6.40761498e-01, ...,\n",
       "         3.31913453e-01, -1.21361807e-01, -3.04741530e-01],\n",
       "       [-9.55727912e-01,  8.58211139e-02, -5.64476808e-01, ...,\n",
       "        -5.82381190e-01, -1.21361807e-01,  6.99189851e-01]])"
      ]
     },
     "execution_count": 5,
     "metadata": {},
     "output_type": "execute_result"
    }
   ],
   "source": [
    "from sklearn.preprocessing import StandardScaler\n",
    "scaler = StandardScaler()\n",
    "# Fit on training set only.\n",
    "scaler.fit(x_train)\n",
    "# Apply transform to both the training set and the test set.\n",
    "x_train = scaler.transform(x_train)\n",
    "x_test = scaler.transform(x_test)\n",
    "\n",
    "x_train\n",
    "\n"
   ]
  },
  {
   "cell_type": "raw",
   "metadata": {},
   "source": [
    "from sklearn.decomposition import PCA\n",
    "pca = PCA(27)\n",
    "pca.fit(x_train)\n",
    "\n",
    "x_train = pca.transform(x_train)\n",
    "x_test = pca.transform(x_test)\n",
    "\n",
    "\n",
    "\n"
   ]
  },
  {
   "cell_type": "raw",
   "metadata": {},
   "source": [
    "x_pca=pd.DataFrame(x_train)\n",
    "x_pca[\"classLabel\"]=y_train\n",
    "\n",
    "import matplotlib.pyplot as plt\n",
    "from mpl_toolkits.mplot3d import axes3d, Axes3D #<-- Note the capitalization! \n",
    "fig = plt.figure()\n",
    "\n",
    "print(pca.explained_variance_ratio_)\n",
    "\n",
    "threedee = plt.figure().gca(projection='3d')\n",
    "threedee.scatter(x_pca.iloc[:,0], x_pca.iloc[:,7], x_pca['classLabel'])\n",
    "threedee.set_xlabel('PC0')\n",
    "threedee.set_ylabel('PC1')\n",
    "threedee.set_zlabel('ClassLabel')\n",
    "plt.show()"
   ]
  },
  {
   "cell_type": "code",
   "execution_count": null,
   "metadata": {},
   "outputs": [],
   "source": []
  },
  {
   "cell_type": "markdown",
   "metadata": {},
   "source": [
    "# Learning"
   ]
  },
  {
   "cell_type": "markdown",
   "metadata": {},
   "source": [
    "## logsitc regression\n",
    "only for comparision purposes"
   ]
  },
  {
   "cell_type": "raw",
   "metadata": {},
   "source": [
    "logisticRegr = LogisticRegression()\n",
    "\n",
    "logisticRegr.fit(x_train, y_train)\n"
   ]
  },
  {
   "cell_type": "raw",
   "metadata": {},
   "source": [
    "y_predictied=logisticRegr.predict(x_test)"
   ]
  },
  {
   "cell_type": "markdown",
   "metadata": {},
   "source": [
    "## support vector machine"
   ]
  },
  {
   "cell_type": "raw",
   "metadata": {},
   "source": [
    "from sklearn.model_selection import GridSearchCV\n",
    "from sklearn.svm import SVC # \"Support Vector Classifier\" \n",
    "\n",
    "parameter_candidates = [\n",
    "  {'C': [1, 10, 100, 1000,1000], 'gamma': [0.001, 0.0004,0.00001], 'kernel': ['rbf']},\n",
    "]\n",
    "\n",
    "# Create a classifier object with the classifier and parameter candidates\n",
    "clf = GridSearchCV(estimator=SVC(class_weight={0:2}), param_grid=parameter_candidates, n_jobs=-1,verbose=10)\n",
    "\n",
    "# Train the classifier on data1's feature and target data\n",
    "clf.fit(x_train, y_train)   \n",
    "print('Best score for data1:', clf.best_score_) \n",
    "clf.best_estimator_\n"
   ]
  },
  {
   "cell_type": "raw",
   "metadata": {},
   "source": [
    "from sklearn.model_selection import GridSearchCV\n",
    "from sklearn.svm import SVC # \"Support Vector Classifier\" \n",
    "clf = SVC(kernel='rbf', class_weight={0:2},gamma=0.0004,C=0.1) \n",
    "\n",
    "  \n",
    "# fitting x samples and y classes \n",
    "clf.fit(x_train, y_train)\n",
    "clf.score(x_train, y_train)\n"
   ]
  },
  {
   "cell_type": "raw",
   "metadata": {},
   "source": [
    "y_predictied=clf.predict(x_test)"
   ]
  },
  {
   "cell_type": "markdown",
   "metadata": {},
   "source": [
    "# Random Forest"
   ]
  },
  {
   "cell_type": "code",
   "execution_count": 138,
   "metadata": {},
   "outputs": [
    {
     "data": {
      "text/plain": [
       "RandomForestClassifier(bootstrap=True, class_weight=None, criterion='entropy',\n",
       "            max_depth=100, max_features=20, max_leaf_nodes=None,\n",
       "            min_impurity_decrease=0.1, min_impurity_split=None,\n",
       "            min_samples_leaf=1, min_samples_split=2,\n",
       "            min_weight_fraction_leaf=0.0, n_estimators=500, n_jobs=None,\n",
       "            oob_score=False, random_state=10, verbose=0, warm_start=False)"
      ]
     },
     "execution_count": 138,
     "metadata": {},
     "output_type": "execute_result"
    }
   ],
   "source": [
    "from sklearn.ensemble import RandomForestClassifier\n",
    "rf = RandomForestClassifier(n_estimators = 500, random_state = 10,criterion='entropy',max_features=20,max_depth=100,min_impurity_decrease=0.1)\n",
    "rf.fit(x_train,y_train)\n"
   ]
  },
  {
   "cell_type": "code",
   "execution_count": 139,
   "metadata": {},
   "outputs": [],
   "source": [
    "y_predictied=rf.predict(x_test)"
   ]
  },
  {
   "cell_type": "markdown",
   "metadata": {},
   "source": [
    "## (Neural Network)"
   ]
  },
  {
   "cell_type": "raw",
   "metadata": {},
   "source": [
    "from keras import Sequential\n",
    "from keras.layers import Dense\n",
    "\n",
    "classifier = Sequential()\n",
    "#First Hidden Layer\n",
    "classifier.add(Dense(4, activation='sigmoid', kernel_initializer='random_normal', input_dim=29))\n",
    "#Second  Hidden Layer\n",
    "classifier.add(Dense(4, activation='sigmoid', kernel_initializer='random_normal'))\n",
    "#Output Layer\n",
    "classifier.add(Dense(1, activation='sigmoid', kernel_initializer='random_normal'))\n",
    "\n",
    "classifier.compile(optimizer ='adam',loss='binary_crossentropy', metrics =['accuracy'])\n",
    "\n",
    "classifier.fit(x_train,y_train, batch_size=5, epochs=100)\n",
    "\n",
    "\n"
   ]
  },
  {
   "cell_type": "raw",
   "metadata": {},
   "source": [
    "y_predictied=classifier.predict(x_test)\n",
    "y_predictied\n",
    "y_predictied =(y_predictied>0.5)"
   ]
  },
  {
   "cell_type": "markdown",
   "metadata": {},
   "source": [
    "# Metrics"
   ]
  },
  {
   "cell_type": "code",
   "execution_count": 140,
   "metadata": {},
   "outputs": [
    {
     "data": {
      "text/plain": [
       "0.87"
      ]
     },
     "execution_count": 140,
     "metadata": {},
     "output_type": "execute_result"
    }
   ],
   "source": [
    "accuracy_score(y_test,y_predictied)\n"
   ]
  },
  {
   "cell_type": "code",
   "execution_count": 141,
   "metadata": {},
   "outputs": [
    {
     "name": "stdout",
     "output_type": "stream",
     "text": [
      "TP 78\n",
      "TN 96\n",
      "FP 11\n",
      "FN 15\n",
      "recall 0.8387096774193549\n",
      "precision 0.8764044943820225\n",
      "f1 0.8571428571428572\n"
     ]
    }
   ],
   "source": [
    "# confisution matrix\n",
    "\n",
    "conMat=confusion_matrix(y_test,y_predictied)\n",
    "TP=conMat[1,1]\n",
    "TN=conMat[0,0]\n",
    "FP=conMat[0,1]\n",
    "FN=conMat[1,0]\n",
    "\n",
    "print (\"TP\",TP)\n",
    "print (\"TN\",TN)\n",
    "print (\"FP\",FP)\n",
    "print (\"FN\",FN)\n",
    "\n",
    "\n",
    "print (\"recall\",recall_score(y_test,y_predictied))\n",
    "print (\"precision\",precision_score(y_test,y_predictied))\n",
    "\n",
    "print(\"f1\",f1_score(y_test,y_predictied))\n",
    "\n"
   ]
  }
 ],
 "metadata": {
  "kernelspec": {
   "display_name": "Python 3",
   "language": "python",
   "name": "python3"
  },
  "language_info": {
   "codemirror_mode": {
    "name": "ipython",
    "version": 3
   },
   "file_extension": ".py",
   "mimetype": "text/x-python",
   "name": "python",
   "nbconvert_exporter": "python",
   "pygments_lexer": "ipython3",
   "version": "3.6.7"
  }
 },
 "nbformat": 4,
 "nbformat_minor": 2
}
